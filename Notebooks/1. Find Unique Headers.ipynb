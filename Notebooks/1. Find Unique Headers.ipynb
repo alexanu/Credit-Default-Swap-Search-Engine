{
 "cells": [
  {
   "cell_type": "markdown",
   "metadata": {},
   "source": [
    "## Introduction"
   ]
  },
  {
   "cell_type": "markdown",
   "metadata": {},
   "source": [
    "In this notebook, we will try to obtain the unique headers amongst all the csv files that we are going to merge. Then we will finally make a master comma seperated value file with list of headers that we obtain from this notebook"
   ]
  },
  {
   "cell_type": "markdown",
   "metadata": {},
   "source": [
    "## Data Preprocessing"
   ]
  },
  {
   "cell_type": "markdown",
   "metadata": {},
   "source": [
    "### Import the necessary libaries "
   ]
  },
  {
   "cell_type": "code",
   "execution_count": 44,
   "metadata": {},
   "outputs": [],
   "source": [
    "import pandas as pd\n",
    "import numpy as np\n",
    "import glob\n",
    "import csv\n",
    "import re\n",
    "import os"
   ]
  },
  {
   "cell_type": "markdown",
   "metadata": {},
   "source": [
    "### Setting up parent directory and sub directory"
   ]
  },
  {
   "cell_type": "code",
   "execution_count": 29,
   "metadata": {},
   "outputs": [],
   "source": [
    "parent_dir = \"../Data/\"\n",
    "filelist = []\n",
    "\n",
    "def makefilelist(parent_dir):\n",
    "    headers = []\n",
    "    csv_headers = []\n",
    "    subject_dirs = [os.path.join(parent_dir, dir) for dir in os.listdir(parent_dir) if os.path.isdir(os.path.join(parent_dir, dir))]\n",
    "    filelist = []\n",
    "    for dir in subject_dirs:\n",
    "        csv_files = [os.path.join(dir, csv) for csv in os.listdir(dir) if os.path.isfile(os.path.join(dir, csv)) and csv.endswith('.csv')]\n",
    "        for file in csv_files:\n",
    "            filelist.append(file)\n",
    "    \n",
    "    return filelist"
   ]
  },
  {
   "cell_type": "markdown",
   "metadata": {},
   "source": [
    "### Read headers from CSV files"
   ]
  },
  {
   "cell_type": "code",
   "execution_count": 30,
   "metadata": {},
   "outputs": [],
   "source": [
    "def readCSV(fileList):\n",
    "    master_csv_headers = []\n",
    "    for filename in fileList:\n",
    "        with open(filename, 'r') as f:\n",
    "            d_reader = csv.DictReader(f)\n",
    "            headers = d_reader.fieldnames\n",
    "            for header in headers:\n",
    "                master_csv_headers.append(header)\n",
    "                \n",
    "    return master_csv_headers"
   ]
  },
  {
   "cell_type": "code",
   "execution_count": 31,
   "metadata": {},
   "outputs": [],
   "source": [
    "filelist = makefilelist(parent_dir)\n",
    "csv_headers = readCSV(filelist)"
   ]
  },
  {
   "cell_type": "markdown",
   "metadata": {},
   "source": [
    "Now we will only use the unqiue headers that we might require for our master CSV"
   ]
  },
  {
   "cell_type": "code",
   "execution_count": 32,
   "metadata": {},
   "outputs": [],
   "source": [
    "def uniqueHeaders(csv_headers):\n",
    "    return list(set(csv_headers))\n",
    "\n",
    "def chomp(list1):\n",
    "    list1 = [x.replace('\\n', '') for x in list1]\n",
    "    return list1"
   ]
  },
  {
   "cell_type": "markdown",
   "metadata": {},
   "source": [
    "Checking our unique header values and taking a look on the kind of values we have"
   ]
  },
  {
   "cell_type": "code",
   "execution_count": 33,
   "metadata": {},
   "outputs": [
    {
     "name": "stdout",
     "output_type": "stream",
     "text": [
      "['UNREALIZED\\xa0DEPRECIATION\\xa0  ', 'Payments\\xa0Received\\xa0by\\xa0Fund', 'Reference Entity/Obligation', 'Notional Amount(1)', 'Rating of Reference Debt Obligation*', 'Buy/Sell Protection(2)', 'Notional amount\\xa0', 'Premium(Received)Paid', 'Upfront Payments', 'Notional Amount1', 'Expiration Date', 'UNREALIZEDAPPRECIATION(DEPRECIATION)(000s)', 'Value($)', '(000 s)', 'Rate Paid by the Fund', 'Unrealized Depreciation ($)', 'Fixed Rate', 'Premiums Paid (Received)', '\\xa0 NOTIONAL AMOUNT\\xa0 \\xa0 ', 'ImpliedCreditSpread\\xa0atJune\\xa030,2015(%)(d)', 'CreditSpread', 'Receive Fixed\\xa0Rate', 'BUY/SELL\\xa0 PROTECTION ', 'CurrentCreditSpread\\xa0(10)', 'Notional Amount(c)', 'Payments made by the Fund', 'Bilateral Credit Default Swap Agreements (unrealized depreciation)', 'Termination\\xa0 date\\xa0', 'Underlying Debt\\xa0Obligation', 'FixedRate', 'UnamortizedUp\\xa0FrontPremiumPaid/(Received)', 'Notional  Amount   (000)', 'Maturity Date\\xa0', 'Fixed         Payments         Made by         the Fund', 'Expiration  Date', '\\xa0\\xa0 ', 'UnderlyingInstrument', 'Fixed Rate (%)', 'PREMIUMSPAID/RECEIVED', '', 'Termination Date', 'NotionalAmount ($)', 'Unrealized\\xa0 Loss\\xa0\\t', 'Rate(%)', 'Receive/PayFixed\\xa0Rate', 'Unrealized   Appreciation   (Depreciation)', 'NetUnrealizedAppreciation(Depreciation)', 'ReceiveBuy/SellProtection', 'Notional Amount (000 s)', 'Upfrontpayments(made)/received', 'INTERESTRATE', 'UpfrontPaymentsReceived', 'SWAP COUNTERPARTY &REFERENCE OBLIGATION', 'Unrealized', '\\xa0\\xa0\\xa0\\xa0Notional\\xa0\\xa0\\xa0\\xa0Value3', 'Notional\\xa0Amount(1)\\xa0\\t', 'Fund Perspective', 'UNREALIZED APPRECIATION(DEPRECIATION)', 'UnrealizedAppreciation(Depreciation)(U.S.\\xa0Dollars)\\xa0(6)', 'Broker\\xa0(Exchange)', 'UnderlyingBond', 'UnrealizedAppreciation\\xa0($)', 'Underlying DebtObligation', 'FeesReceivable/(Payable)', 'NOTIONALAMOUNT(000 S)', 'UnrealizedDepreciation', 'MaximumPotentialAmount ofFuturePaymentsby the FundUnder theContract (2)', 'Unrealized Depreciation ($) ', 'NotionalAmount(000 s)b', 'ExpirationDate', 'TERMINATION', 'Spread (12', 'Upfront Payments Paid ($)', 'CREDITRATING OFREFERENCEOBLIGATION ', 'Notional amount', '(Depreciation', 'UpfrontPremiumsReceived', 'UnrealizedAppreciation(Depreciation)(000)', 'Notional amount (000)', 'Fair Value', 'Appreciation/(Depreciation) ', '\\xa0\\xa0\\xa0.2', 'Credit Spread (8)', 'UpfrontPremiumsPaid/(Received)', 'PremiumReceived(Paid)', 'Market   Value3', 'Fair value(2)', 'Buy/Sell', 'ImpliedCreditSpread at06/30/20168', 'Payments\\xa0madeby the Fund', 'Swap\\xa0Referenced\\xa0Obligation', 'NotionalValue', 'UnrealizedAppreciation/ (Depreciation)', 'UpfrontPremiumsPaid/(Received)($)', 'Pay/Receive  Fixed Rate', 'EXPIRATIONDATE', '(Pay)/ ReceiveFixed Rate\\xa0', 'Currency', 'Paymentsreceived by thePortfolio', 'Description', 'Unrealized (Depreciation)', 'SWAP COUNTERPARTY & REFERENCE OBLIGATION', 'Reference Debt Obligation/Index', 'UNREALIZEDDEPRECIATION', 'NOTIONAL AMOUNT\\xa0', 'Notional    Amount2', 'Market Value', 'Counterparty    ', 'Payments\\xa0Made\\xa0by\\xa0Fund', 'made', 'Interest Rate\\xa0\\t', 'Value', 'Net UnrealizedAppreciation(Depreciation)', 'Reference\\xa0Entity', 'MarketValue', 'Buy/Sell  Protection (1)', 'Termination Date', 'NotionalAmount', 'Expiration\\xa0', 'Expiration', 'Unrealized  Appreciation/  (Depreciation)', 'Value atMarch\\xa031,2009(U.S.\\xa0Dollars)', 'Underlying Debt Obligation/Quality Rating', 'NotionalAmount(000)', 'Value', 'Broker (Exchange)', 'Notional\\xa0', 'FIXED RATE', 'Fixed      Payment      Made', 'UpfrontPaymentsMade ', 'UnrealizedAppreciation', 'Underlying Debt Obligation/ Quality Rating\\xa0(e)', 'VALUE', 'Paymentsreceivedby\\xa0the\\xa0Fund', 'Fixed Rate(%)', 'Swap\\xa0Counterparty', 'NotionalAmount($)(e)', 'MarketValue', 'Payments  Received  by Fund', 'Referenced Entity', 'UnamortizedPremium(Paid)Received\\xa0($)', 'Effective/Expiration Date', 'Termination Date', 'Buy/Sell', 'Value(000)', 'Terminationdate', 'Payment Termination Date', 'FUND\\xa0', 'Appreciation\\xa0', 'Buy/Sell', 'Credit Event', 'The FundWill\\xa0Receive', 'Net UnrealizedAppreciation(Depreciation)', 'Swap Counterparty and Reference Obligation', 'Referenced Entity', 'BUY/SELL PROTECTION', 'Counterparty and Reference Entity', 'NOTIONAL\\xa0AMOUNT  ', 'Reference Debt\\xa0Obligation/Index\\xa0\\t', 'TERMINATION DATE\\xa0 \\xa0 ', 'Upfront Payments', 'Swap  Counterparty/  Referenced Debt  Issuer', 'Payments made by the Fund', 'Gain/(Loss)\\t', 'UnrealizedAppreciation /(Depreciation)', 'TERMINATIONDATE', 'Notional Amount(B)', 'AMOUNT (000 S)', 'NotionalAmount(000)(4)', 'Counterparty', 'Effective/ExpirationDates', 'Payments made by the Fund2', 'MarketValue ($)', 'BUY/SELLPROTECTION', 'Net Unrealized Appreciation (Depreciation)', 'CurrentCreditSpread\\xa0(9)', 'Upfront Premiums Paid', 'Notional Amount (k) ($)', 'Notional Amount ($) (m)', 'Paymentsreceived by the Fund', 'Upfront Payments Paid ($) ', 'Net\\xa0UnrealizedAppreciation(Depreciation)\\xa0(2)', 'Notional amount', 'CurrentCreditSpread\\xa0(7)', 'Premiums Paid', 'UpfrontPayment', 'PREMIUMSPAID/(RECEIVED)(000s)', 'Value ($)', 'Payments received by the Portfolio', 'Buy/Sell Protection (7)', 'TERMINATION DATE', 'Effective/ExpirationDate', 'Underlying Debt Obligation/Quality Rating (k)', 'Par', 'Cash FlowsReceived bythe Fund', 'ExpirationDate', 'Notional  Amount', 'Underlying Instrument', 'Credit DefaultSwap Counterparty', 'Pay/Receive  Fixed\\xa0Rate', 'NotionalAmount\\xa0(000)', 'Frequency ofPaymentsMade', 'Annual Premium', 'ISSUER\\xa0 ', 'Buy/Sell Protection (1)', 'UnrealizedAppreciation/(Depreciation)', 'BUY/SELL PROTECTION', 'Notional Amount ($) (j)', 'The FundAgrees\\xa0to\\xa0Pay', 'Counterparty', 'Unrealized  Appreciation  (Depreciation)', '(Depreciation)', 'Value ($) ', 'Notional Amount(000)', 'Upfront Payments Paid/(Received) ($)', 'Credit Event', 'Premiums Paid/(Received)', 'INTEREST RATE', 'Counterparty\\xa0\\t', 'Unrealized Appreciation/ (Depreciation) ($)', 'Unrealized Appreciation/Depreciation($)', 'Upfront Payments Paid/ (Received) ($)', 'UnderlyingDebtObligation/QualityRating (i)', 'Unrealized Appreciation ($)', 'UPFRONTPAYMENTS', 'Credit Spread', 'Expiration', 'Effective/ Expiration Date', 'AnnualRate', 'Upfront   Premiums   Paid   (Received)', 'Annual', 'Unrealizedappreciation', 'Underlying Debt Obligation/Quality Rating (i)', 'Pay/Receive(A)', 'Pay/Receive Fixed Rate', 'Underlying Debt Obligation/ Quality Rating (h)', 'Reference Debt         Obligation/         Index', 'TerminationDate', '\\xa0Reference Entity', 'NOTIONALAMOUNT(000)', 'Valuec', '\\xa0\\xa0Notional Value', 'Notional Amount(000 s)', 'Receive', 'Termination dates', 'MARKET  VALUE(3)', 'TERMINATIONDATE', 'FixedPaymentsMade bythe Fund', 'NotionalAmount', 'Reference  Obligation', 'Unrealized\\xa0Gain (Loss)\\xa0\\t', 'Expiration Date\\xa0\\xa0\\t', 'Receive/(Pay)Fixed\\xa0Rate', 'Payments received by the Fund', '(Pay)/ReceiveFixed Rate', '(PAY)/ RECEIVE FIXED RATE  ', 'Upfront Premiums Paid/ (Received) ($)', 'Counterparty', 'UnrealizedAppreciation(Depreciation)', '(Pay)/Receive\\xa0', 'NotionalAmount\\xa0($)', 'Reference Debt      Obligation/Index', 'ContractNotional\\xa0Amount', 'BUY/SELL PROTECTION', 'UnrealizedAppreciation/(Depreciation)', '\\xa0\\xa0\\xa0.1', 'Referenced debt*\\xa0', 'MaturityDate', 'Upfront Premiums Paid/ (Received)', 'BUY/SELL PROTECTION', 'Rating ofReferenceDebtObligation*', 'Reference Instrument', 'UPFRONTPAYMENTS', 'SpreadLock', 'Swap Counterparty andReference Obligation', 'AMOUNT(000 S)', 'Paymentsmade by the Fund', 'Payments Made by Fund', 'Amount (000)', 'UnrealizedAppreciation(Depreciation)', '(PAY)/\\xa0 RECEIVE\\xa0 FIXED RATE\\xa0 ', 'Cash Flows Received by\\xa0the\\xa0Fund', 'Underlying Debt Obligation/Quality Rating\\xa0(i) ', 'Credit Default SwapCounterparty', 'VALUE', 'Notional Amount.1', '\\xa0      Reference Entity', 'Swap Counterparty', 'Reference Entity', 'Implied Credit Spread at December 31, 2016(b)', 'Expiration Dates ', 'Pay Fixed Rate', 'Buy/Sell Protection', '\\xa0 ISSUER\\xa0 ', 'Receive Fixed\\xa0Rate', 'UNREALIZED  DEPRECIATION', 'PremiumsPaid/(Received)', 'Notional\\xa0Amount\\xa0(1)', '\\xa0Notional Amount', 'Upfront Payments Received ($)', 'Payments received/paid by fund', 'PAY/RECEIVEFIXED\\xa0RATE', 'Pay/Receive', 'Expiration Date', 'Appreciation/(Depreciation)', '\\xa0\\xa0\\xa0', 'Referenced\\xa0Obligation', 'Buy/SellProtection (1) ', 'Unrealized  Appreciation/(Depreciation)', 'ImpliedCreditSpread (1)', 'Reference Entity ', 'APPRECIATION\\xa0(DEPRECIATION)\\xa0  ', 'PremiumPaid(Received)', 'COUNTERPARTY/ REFERENCE OBLIGATIONS ', 'Counterparty', 'Notional Amount ($)', 'ReferenceEntity', 'Buy/SellProtection', 'Counterparty', 'Rating(C)', 'Upfront  Payments  (000)', 'Variable Rate', 'Premium', 'ImpliedCreditSpread\\xa0atJune\\xa030,2014(%)(d)', 'Notional Amount', 'UnrealizedAppreciation($)', 'Paymentsmade by thePortfolio', 'Notional\\xa0Amount\\xa0\\t', 'Notional Amount ($) (h)', 'Counterparty/', 'ExpirationDate', 'Notional\\xa0 Amount\\xa0', 'Unrealizedappreciation(depreciation)', '%)', 'UpfrontPremiumPaid(Received)', 'FixedReceive Rate', 'Notional Amount ($)(f)', 'Appreciation/(Depreciation)', 'NotionalAmount', 'UnrealizedGain/(Loss)', 'Expiration Date ', 'NotionalAmount(000)', 'Purchase/Sell Protection2', 'Receive(Pay) FixedRate', 'INTEREST RATE', 'NotionalAmount#', 'INTERESTRATE', 'Swap counterparty/\\xa0', 'Underlying Bond', 'ReferenceEntity', 'PayFixedRate\\xa0(%)', 'Termination', 'Premiums', 'Upfront Premium Received(paid)**\\xa0', \"NOTIONALAMOUNT(000's)\", 'Clearing\\xa0Agent', 'Expiration Date', 'Periodic    Payments   Made    by the    Fund ', 'TERMINATION DATE', 'Amount(000)', 'Net UnrealizedAppreciation', 'Fixed Cash Flows Received ', 'CreditReceivedat4/30/2015', 'COUNTERPARTY\\xa0 ', 'Credit Protection', 'Underlying\\xa0Bond', '(107,967.1', '(Pay)/ReceiveFixed\\xa0Rate', 'UnrealizedAppreciation', 'INTEREST RATE', 'Termination date', 'Unrealized Appreciation/(Depreciation) ($)', 'Unnamed: 5', '(Pay)/Receive Fixed Rate', 'ExpirationDate', '(depreciation)', 'Period\\t', 'Notional Amount    ', 'Deliverable On Default', 'Fixed Rate', 'Unrealized Appreciation', 'Deliverable On Default', 'Expiration\\xa0Date', 'UNREALIZED APPRECIATION(DEPRECIATION)   ', 'UpfrontPaymentPaid(Received)(000)', 'Amount', 'FairValue', 'Termination   Date', 'NotionalAmount', 'MarketValue\\xa0($)', 'Fixed Rate', 'Payments received by the Fund2', 'Unrealized Appreciation (Depreciation)', 'NOTIONALAMOUNT', 'Swap', 'FUND REFERENCE OBLIGATION', 'Interest Rate', 'NotionalValue( )', 'Notional Amount (000s)\\xa0', 'Value ($)', 'Amount(000)', 'Rating(C)', 'Exercise Rate', 'RECEIVED\\xa0 FIXED RATE\\xa0 ', 'Made by\\xa0the Fund\\xa0\\t', 'Underlying Instrument', '\\xa0 BUY/SELL\\xa0 PROTECTION\\xa0\\xa0', 'Cleared Exchange', 'Value', 'TerminationDate', 'INTERESTRATE', 'Unrealized Appreciation/                    (Depreciation) ($)', 'Appreciation/(Depreciation)($)', 'Termination date\\xa0', 'Notional Amount', 'Credit Spread (10)', 'Upfront Payments Paid/ ($)', 'TERMINATION\\xa0DATE\\xa0  -\\xa0 ', 'MATURITY DATE', 'BUY/SELL', 'Reference Entity/', '  ', 'Notional Amount ($) (i)', 'COUNTERPARTY/\\xa0 REFERENCE OBLIGATIONS\\xa0 ', 'Underlying Debt Obligation/ Quality Rating (l)', 'UnrealizedAppreciation\\xa0\\xa0\\xa0\\xa0\\xa0\\xa0(Depreciation)4\\xa0\\xa0\\xa0\\xa0\\xa0\\xa0', '(Pay)/Receive Fixed Rate\\xa0\\xa0\\t', 'Counterparty\\xa0', 'Fixed\\xa0Rate', 'PAY/RECEIVEFIXED RATE', 'Amount(000s)', 'Notional Amount(000s)', 'Fixed Rate (Annualized)', 'Receive(Pay)\\xa0', 'Buy/SellProtection1', 'Frequency     of Payments      Made', 'ImpliedCreditSpread\\xa0atJune 30,2014(%)(d)', 'Rating***\\xa0', 'CurrentCreditSpread\\xa0(6)', 'Creditspread(2)', 'Termination dates', 'Deliverable on Default', ' Rating***', 'Reference Debt Obligation', 'Termination Date', 'Upfront', '(107,967', 'Fixed Cash Flows Received', 'Buy/SaleProtection', 'ExpirationDate', 'ImpliedCreditSpread at5/31/201510', 'Frequency of Payments Made', 'Termination Date\\xa0', 'Date\\xa0\\t', 'Notional\\xa0Amount(1)', 'TERMINATION DATE', 'Expiration Date    ', 'UnrealizedAppreciation(Depreciation)(U.S. Dollar)', 'SWAPCOUNTERPARTY &REFERENCEOBLIGATION', 'UpfrontPremiumsReceived(Paid)', 'Average Credit Rating (a)', '(Paid)', 'Pay Rate', 'Unnamed: 7', 'Termination  Date', 'Buy/SellProtection\\xa0(11)', 'FixedRate(%)', 'BUY/SELLPROTECTION', 'Buy/Sell Protection', 'Swap Counterparty and  Reference Obligation', 'Buy/Sell\\xa0', 'Fixed Deal Pay/Receive Rate', 'Buy/SellProtection\\xa0(12)', 'Notional\\xa0amount', 'UnrealizedDepreciation($)', 'UNREALIZED\\xa0 APPRECIATION (DEPRECIATION) \\xa0 ', 'PERIODIC  PAYMENTS  RECEIVED\\xa0BY  THE\\xa0FUND ', 'Cash Flows Received by\\xa0the Fund', 'Date', 'Value($)', 'Notional\\xa0Amount', 'ReferenceDebtObligation', 'NotionalAmount', 'Appreciation/(Depreciation)', 'Fixed Rate', 'NotionalAmount', 'Terminationdates', 'Reference Debt\\xa0Obligation\\xa0\\t', 'Amount(000 s)', 'Unrealized Depreciation ($)', 'Notional Amount (000s)', 'Buy/Sell Protection', 'Value ofContract', 'Swap\\xa0Counterparty\\xa0and\\xa0Reference\\xa0Obligation', 'UNREALIZED APPRECIATION', 'Buy/Sell  Protection', 'Pay/ReceiveFixed Rate', '(Pay) / Receive Fixed Rate', 'Effective/Expiration Dates', 'Deliverable on Default', 'MaximumPotentialFuture Payment(Receipt)', 'FixedRate', 'Expiration Date', 'Underling Debt Obligation/ Quality Rating (l)', 'Payments\\xa0receivedby the Fund', 'UnamortizedUp FrontPremiumPaid/(Received)', 'Swap counterparty/\\xa0Referenced debt*\\xa0', 'Value of', 'REFERENCE', 'SWAPCOUNTERPARTY & REFERENCE OBLIGATION', 'FixedRate(Annualized)', 'Implied Credit Spread (1)', 'Pay/ReceiveFixedRate', 'Reference Obligation', 'CurrentCreditSpread\\xa0(8)', 'Unrealized (Depreciation)\\xa0\\t', 'AMOUNT\\xa0', 'Counterparty/Reference Entity', 'Current Credit Spread (12', 'Paid (Received)', 'AMOUNT (000 s)', 'Maximum Potential Amount of Future Payments by the Fund Under the Contract (2)', 'Pay/ReceiveFixed Rate', \"NOTIONALAMOUNT(000'S)\", 'UnrealizedDepreciation ($)', 'UnrealizedAppreciation(Depreciation)', 'Currency', 'Notional Value', 'Reference Asset', 'Buy/Sell Protection', '(Pay)/ReceiveFixed Rate', 'PayFixed', 'Market', 'UPFRONTPAYMENTSPAID(RECEIVED)', 'Amount($)', 'UnrealizedAppreciation/(Depreciation)', 'DeliverableOn Default', 'UPFRONTPAYMENTSPAID(RECEIVED)', 'Receive(Pay)FixedRate', 'Payments', 'Received/(Paid)', 'Underlying Debt Obligation/Quality Rating (m)', 'Unnamed: 10', 'Receive\\xa0(Pay)Fixed\\xa0Rate', 'NOTIONALAMOUNT(000)', 'Reference Instrument', 'Notional  Amount  (000)', 'UNREALIZED DEPRECIATION', 'UNREALIZED (DEPRECIATION)', 'Underlying Debt Obligation/ Quality Rating (i)', 'Clearing Agent', 'NotionalAmount(U.S.\\xa0Dollars)', 'ContractNotionalAmount', 'The Fundwill\\xa0Receive', 'Buy/ Sell(1)', '', 'Trade Date', 'PremiumsPaid(Received)', 'Frequency of         Payments         Made', '(Pay)/ReceiveFixed Rate', 'Buy/Sell(1) ', 'ReferencedObligation', 'Payments Made/(Received)($)', 'SELL\\xa0 PROTECTION\\xa0', 'MATURITY DATE\\xa0', 'Reference\\xa0 Obligation\\xa0', 'CREDITRATINGOFREFERENCEOBLIGATION ', 'Notional\\xa0Value3', 'Upfrontpaymentsreceived (made)', 'UnrealizedAppreciation', 'Notional Amount', 'UNREALIZED DEPRECIATION', '(Pay)/  Receive  Rate', 'CREDITRATINGOFREFERENCEOBLIGATION (unaudited)', 'ExpirationDate', 'SWAP  COUNTERPARTY(REFERENCE  ENTITY)', '\\xa0 ', 'Buy/SellProtection', 'Notional', 'Underlying Debt Obligation/Quality Rating (n)', 'Unrealizedappreciation/(depreciation)', 'Buy/Sell', 'Appreciation/', 'Termination Date', 'MATURITY\\xa0 DATE\\xa0 ', 'FixedRate*', 'Buy/Sell Credit Protection', 'Payments made by the Fund2', 'PeriodicPaymentsReceivable(Payable)\\xa0($)', 'Notional Value', 'Fund', 'Unrealized Gain', 'MarketValue', '(Pay)/Receive  Fixed Rate', 'Notional Amount', 'AMOUNT (000 S)', 'Cash FlowsReceived by\\xa0theFund', 'Notional Amount ($) (l)', 'Notional Amount (000)', 'Amount\\xa0\\t', 'Notionalamount(000)', 'Paid (Received)', 'Notional Amount ($) (k)', 'UnderlyingDebt\\xa0Obligation', 'AnnualProtectionPayments', 'Counterparty\\xa0', 'Underlying Instrument', 'AnnualPremium', 'Date', 'ReferenceObligation', 'ImpliedCreditSpread\\xa0atJune\\xa030,', 'UNREALIZED DEPRECIATION', '(Depreciation)', 'Reference Entity/Swap Counterparty', 'Pay/Receive Fixed     Rate', 'Asset Backed/ Credit Indices', 'ReferenceEntity/Obligation', \"NOTIONAL AMOUNT (000's)\", 'Unrealized Gain (Loss)', 'Swap Reference Entity', 'Reference Obligation', 'Buy/SellProtection\\xa0(7)', 'Payment Made/(Received)($)', ' \\xa0Notional\\xa0 \\xa0Amount\\xa0\\t', '(Pay)/Receive Rate', 'Unrealized Appreciation(Depreciation)', 'Unrealized Appreciation/(Depreciation) ($)', 'UpfrontPaymentsMade(Received)', 'UNREALIZEDAPPRECIATION(DEPRECIATION)', 'TerminationDate', 'Fixed Deal Receive Rate ', 'UnderlyingDebtObligation/QualityRating (j)', 'Fixed Cash Flows Paid', 'SWAP COUNTERPARTY &REFERENCE OBLIGATION', 'Notionalamount', 'Fixed Payments Made by the Fund', 'Receive Rate', 'APPRECIATION (DEPRECIATION)', 'COUNTERPARTY & REFERENCE OBLIGATION', 'ReferenceEntity', 'Unnamed: 9', 'Annual Premium', 'Expiration\\xa0\\t', 'Underlying Debt Obligation/ Quality Rating (g)', 'Pay/Receive', 'Receive(Pay)', 'NotionalAmount\\xa0($)', 'Protection', \"Notional Amount(000's)\", 'Notional Amount ($) (f)', '(PAY)/RECEIVEFIXED RATE', 'spread3', 'Effective/                    Expiration Date', 'UNREALIZED', 'COUNTERPARTY', 'Pay/ReceiveFixed Rate', 'Terminationdates', 'Buy/Sell Protection', 'Pay/ReceiveAnnualFixedRate', 'Payments made by the Portfolio', 'Receive/Pay', 'Payments Received by Fund', 'Pay/Receive Fixed     Rate', 'Depreciation', 'Swap Details', 'Unrealized appreciation/(depreciation)', 'Net UnrealizedAppreciation/(Depreciation)\\xa0(2)', 'Notional amount', 'Notional Amount ($)', 'Reference  Entity/Obligation', 'Fixed Cash Flows Paid', 'Expiration Date', 'Value(U.S.\\xa0Dollars)', 'Underlying Debt Obligation', 'MarketValue', 'ExpirationDate', 'SWAP COUNTERPARTY ANDREFERENCE\\t\\t\\t\\tOBLIGATION', 'Notional\\xa0 Amount\\xa0\\t', 'Moody s Ratingof ReferenceEntity', 'Amount (000)', 'Receive(Pay)', 'Notional Amount ($)\\xa0(h) ', 'Swap Referenced Obligation', 'Pay/Receive(A)', 'Notional Amount ($)(g)', 'Rate', 'Referenced\\xa0Entity', 'Agreement With:', 'Notional Amount(3)', 'Underlying Debt Obligation/ Quality Rating (j)', 'NOTIONAL AMOUNT (000 s)', 'CDX NA Investment Grade\\xa0\\xa0\\xa0\\xa0Index-10 6/20/13', 'Reference    Entity', 'INTEREST', 'Unrealized(Depreciation)', 'Reference Entity\\xa0', '\\xa0\\xa0\\xa0\\xa0\\xa0\\xa0Annual\\xa0Protection\\xa0\\xa0\\xa0\\xa0\\xa0\\xa0Payments', 'ImpliedCreditSpread\\xa0atJune\\xa030,2013(n)', 'Referenced Obligation', 'NotionalAmount(000)2', 'Upfront premium\\xa0received (paid)**\\xa0', 'FixedRate', 'EXPIRATION', 'Deliverableon Default', 'Appreciation(Depreciation)', 'Termination dates', 'Market Value', 'Swap\\xa0Counterparty/', 'Frequency of Payments Received', 'Unrealized      Loss', 'Morgan Stanley', 'Reference\\xa0Entity\\t', 'Unrealized  Appreciation  (Depreciation)  (000)', '(PAY)/RECEIVE', 'Net\\xa0UnrealizedDepreciation(2)', 'Buy/SellProtection', 'Underlying Debt Obligation/Quality Rating (j)', 'Annual Premium', 'Payment Received/(Paid)', 'Net\\xa0Unrealized', 'Unrealized appreciation(depreciation)', 'TERMINATION  DATE', 'Index', 'Unrealized Appreciation/ (Depreciation)', 'CreditRating ofReferenceObligation ', 'COUNTERPARTY\\xa0', '(Pay)/Receive\\xa0\\xa0\\xa0\\xa0\\xa0 Expiration\\xa0', 'CurrentCreditSpread\\xa0(11)', 'ImpliedCreditSpread^', 'Swap   Counterparty   (Reference Entity)', 'UpfrontPremiumsPaid(Received)', 'Notional Amount(2)', 'UpfrontPremiumPaid(Received)', 'CurrentCreditSpread\\xa0(12)', 'Payments made by\\xa0the Fund\\xa0\\t', 'The\\xa0Fund\\xa0Agrees\\xa0to\\xa0Pay', 'FAIR\\xa0VALUE', 'Buy/SellProtection', 'Receive Fixed Rate', 'NOTIONALAMOUNT (000)', 'Notional AmountB', 'NOTIONAL  AMOUNT(2)', 'NOTIONAL AMOUNT', 'Rate', 'Reference Entity', 'Buy/Sell Protection (9)', 'MaturityDate', 'ExercisePrice', '\\xa0\\xa0\\xa0\\xa0\\xa0\\xa0\\xa0\\xa0Termination\\xa0\\xa0\\xa0\\xa0\\xa0\\xa0\\xa0\\xa0Date', 'Counterparty(a)', 'NOTIONAL AMOUNT2\\xa0 \\xa0 ', 'Unrealizedappreciation/ (depreciation)', 'Deliverable\\xa0on\\xa0Default', 'PremiumsPaid/(Received)($)', 'Receive (Pay)', 'Pay/ReceiveAnnual Fixed Rate', 'Unrealized depreciation', 'Buy/SellProtection', 'Clearinghouse', 'Notionalamount ', 'CreditDefault SwapCounterparty', 'Buy/SellCredit Protection', 'Fixed Payments Received by the Fund', 'Notional      Amount', 'Payments made by the Fund\\xa0\\t', 'Pay', 'UpfrontPaymentsPaid\\xa0\\xa0(Received)\\xa0\\xa0', 'SWAPCOUNTERPARTY& REFERENCEOBLIGATION', 'Description', 'Cash FlowsReceivedby\\xa0the\\xa0Fund', 'Unrealized appreciation(depreciation)', 'UNREALIZEDAPPRECIATION(DEPRECIATION)', 'Receive(Pay)', 'Underlying Debt Obligation/Quality Rating (l)', 'UnrealizedAppreciation/(Depreciation)($)', 'SWAP COUNTERPARTY &REFERENCE OBLIGATION', 'SwapCounterparty', 'ImpliedCreditSpread*', 'Notional  Amount  Payable on  Default  (000)', 'UpfrontPaymentsMade', 'Effective/ Expiration Date', 'NotionalAmount(o)', 'SWAPCOUNTERPARTY& REFERENCEOBLIGATION', 'SWAP COUNTERPARTY & REFERENCE OBLIGATION', 'Counterparty (Issuer)', 'Notional Amount', 'Receive Fixed ', 'SWAP\\xa0COUNTERPARTY &REFERENCE OBLIGATION', 'Reference Entity', 'APPRECIATION', 'Notional Amount', 'ImpliedCreditSpread\\xa0atApril\\xa030,2009(3)', 'Maturity', 'FAIR\\xa0VALUE(000s)', 'Notional', 'Appreciation(Depreciation)', 'Maturity Date', 'Reference Entity', 'Annual Premium.1', 'UnrealizedAppreciation ($)', 'UpfrontPremiumPaid\\xa0(Received)', '(PAY)/\\xa0RECEIVED FIXED RATE\\xa0 \\xa0  ', 'Notional Amount ($) (g)', 'Termination date', 'Reference Entity\\xa0\\xa0\\xa0\\xa0\\xa0\\xa0\\xa0\\xa0\\xa0\\xa0', 'UnrealizedGain (Loss)', 'SWAP COUNTERPARTY & REFERENCE OBLIGATION', 'Unrealized Appreciation/ (Depreciation) ($)', 'MATURITY  DATE ', 'Fixed Rate\\xa0', 'UpfrontPaymentMade', '(Pay/)Receive Rate', 'Upfrontpayments\\xa0(made)/received', '(Pay)/Receive  Fixed Rate', 'Net\\xa0UnrealizedAppreciation(Depreciation)', 'Notional Amount($)', 'Unrealized         Gain (Loss)', 'Unnamed: 6', 'UnrealizedAppreciation(Depreciation)(U.S. Dollars)', 'UPFRONT  PREMIUMS  PAID/\\xa0  (RECEIVED)', 'UPFRONTPAYMENT', 'Pay/Receive Fixed Rate', 'Terminationdate', 'Issuer', 'Buy/Sell', 'Payments\\xa0Made by Fund', '(Pay)/ReceiveFixed\\xa0Rate', 'Receive\\xa0(Pay)Fixed Rate3', 'RatingC', 'Unnamed: 8', 'Notional         Amount', 'UnrealizedAppreciation(Depreciation)4', 'Payments\\xa0made\\xa0bythe Fund', 'Buy/SellProtection\\xa0(9)', 'Buy/Sell Protection (11', 'NOTIONAL AMOUNT2', \"NotionalAmount(000'somitted)\", 'Value    ', 'UpfrontPremiumsPaid/(Received)', 'NetClosingAmount', 'Issues', '(Buy)/Sell Protection', 'Counterparty (Issuer)', 'Reference Obligation/ Counterparty', 'Unnamed: 11', '(1.55', 'Deliverable On Default.1']\n"
     ]
    }
   ],
   "source": [
    "final_headers = uniqueHeaders(csv_headers)\n",
    "lol = chomp(final_headers)\n",
    "print(lol)"
   ]
  },
  {
   "cell_type": "markdown",
   "metadata": {},
   "source": [
    "### Checking for different instances of similar headers"
   ]
  },
  {
   "cell_type": "code",
   "execution_count": 54,
   "metadata": {},
   "outputs": [
    {
     "name": "stdout",
     "output_type": "stream",
     "text": [
      "Notional Amount(1)\n",
      "Notional amount \n",
      "Notional Amount1\n",
      "  NOTIONAL AMOUNT    \n",
      "Notional Amount(c)\n",
      "Notional  Amount   (000)\n",
      "NotionalAmount ($)\n",
      "Notional Amount (000 s)\n",
      "    Notional    Value3\n",
      "Notional Amount(1) \t\n",
      "NOTIONALAMOUNT(000 S)\n",
      "MaximumPotentialAmount ofFuturePaymentsby the FundUnder theContract (2)\n",
      "NotionalAmount(000 s)b\n",
      "Notional amount\n",
      "Notional amount (000)\n",
      "NotionalValue\n",
      "NOTIONAL AMOUNT \n",
      "Notional    Amount2\n",
      "NotionalAmount\n",
      "NotionalAmount(000)\n",
      "Notional \n",
      "NotionalAmount($)(e)\n",
      "NOTIONAL AMOUNT  \n",
      "Notional Amount(B)\n",
      "AMOUNT (000 S)\n",
      "NotionalAmount(000)(4)\n",
      "Notional Amount (k) ($)\n",
      "Notional Amount ($) (m)\n",
      "Notional amount\n",
      "Notional  Amount\n",
      "NotionalAmount (000)\n",
      "Notional Amount ($) (j)\n",
      "Notional Amount(000)\n",
      "NOTIONALAMOUNT(000)\n",
      "  Notional Value\n",
      "Notional Amount(000 s)\n",
      "NotionalAmount\n",
      "NotionalAmount ($)\n",
      "ContractNotional Amount\n",
      "AMOUNT(000 S)\n",
      "Amount (000)\n",
      "Notional Amount.1\n",
      "Notional Amount (1)\n",
      " Notional Amount\n",
      "Notional Amount ($)\n",
      "Notional Amount\n",
      "Notional Amount \t\n",
      "Notional Amount ($) (h)\n",
      "Notional  Amount \n",
      "Notional Amount ($)(f)\n",
      "NotionalAmount\n",
      "NotionalAmount(000)\n",
      "NotionalAmount#\n",
      "NOTIONALAMOUNT(000's)\n",
      "Amount(000)\n",
      "Notional Amount    \n",
      "Amount\n",
      "NotionalAmount\n",
      "NOTIONALAMOUNT\n",
      "NotionalValue( )\n",
      "Notional Amount (000s) \n",
      "Amount(000)\n",
      "Notional Amount\n",
      "Notional Amount ($) (i)\n",
      "Amount(000s)\n",
      "Notional Amount(000s)\n",
      "Notional Amount(1)\n",
      "Notional amount\n",
      "Notional Amount\n",
      "NotionalAmount\n",
      "NotionalAmount\n",
      "Amount(000 s)\n",
      "Notional Amount (000s)\n",
      "AMOUNT \n",
      "AMOUNT (000 s)\n",
      "Maximum Potential Amount of Future Payments by the Fund Under the Contract (2)\n",
      "NOTIONALAMOUNT(000'S)\n",
      "Notional Value\n",
      "Amount($)\n",
      "NOTIONALAMOUNT(000)\n",
      "Notional  Amount  (000)\n",
      "NotionalAmount(U.S. Dollars)\n",
      "ContractNotionalAmount\n",
      "Notional Value3\n",
      "Notional Amount\n",
      "Notional\n",
      "Notional Value\n",
      "Notional Amount\n",
      "AMOUNT (000 S)\n",
      "Notional Amount ($) (l)\n",
      "Notional Amount (000)\n",
      "Amount \t\n",
      "Notionalamount(000)\n",
      "Notional Amount ($) (k)\n",
      "NOTIONAL AMOUNT (000's)\n",
      "  Notional   Amount \t\n",
      "Notionalamount\n",
      "NotionalAmount ($)\n",
      "Notional Amount(000's)\n",
      "Notional Amount ($) (f)\n",
      "Notional amount\n",
      "Notional Amount ($)\n",
      "Notional  Amount \t\n",
      "Amount (000)\n",
      "Notional Amount ($) (h) \n",
      "Notional Amount ($)(g)\n",
      "Notional Amount(3)\n",
      "NOTIONAL AMOUNT (000 s)\n",
      "NotionalAmount(000)2\n",
      "Notional Amount(2)\n",
      "NOTIONALAMOUNT (000)\n",
      "Notional AmountB\n",
      "NOTIONAL  AMOUNT(2)\n",
      "NOTIONAL AMOUNT\n",
      "NOTIONAL AMOUNT2    \n",
      "Notionalamount \n",
      "Notional      Amount\n",
      "Notional  Amount  Payable on  Default  (000)\n",
      "NotionalAmount(o)\n",
      "Notional Amount\n",
      "Notional Amount\n",
      "Notional\n",
      "Notional Amount ($) (g)\n",
      "Notional Amount($)\n",
      "Notional         Amount\n",
      "NOTIONAL AMOUNT2\n",
      "NotionalAmount(000'somitted)\n",
      "NetClosingAmount\n",
      "Counter 128\n"
     ]
    }
   ],
   "source": [
    "counter = 0\n",
    "for header in lol:\n",
    "    if 'amount' in header.lower() or 'notional' in header.lower():\n",
    "        print(header)\n",
    "        counter+=1\n",
    "print (\"Counter\", counter)"
   ]
  },
  {
   "cell_type": "markdown",
   "metadata": {},
   "source": [
    "We will usse the above function as a way to guage how many similar ways are there to report a specific header and then merge all the occurances together to the master csv when we are conducting the joining"
   ]
  },
  {
   "cell_type": "markdown",
   "metadata": {},
   "source": [
    "### Normalizing the values present in the column"
   ]
  },
  {
   "cell_type": "code",
   "execution_count": null,
   "metadata": {},
   "outputs": [],
   "source": [
    "def normalizeValues(filelist):\n",
    "    for filename in filelist:\n",
    "        with open(filename, 'r') as f:\n",
    "            df = pd.read_csv(filename, error_bad_lines=False)\n",
    "            headers = list(df)\n",
    "            for header in headers:\n",
    "                if '000' in header:\n",
    "                    df[header] = df[header].astype(str) + '000'\n",
    "            print (df)\n",
    "            print(\"Filename\", filename)        \n",
    "            df.to_csv(filename, index=False, header=True)"
   ]
  },
  {
   "cell_type": "code",
   "execution_count": null,
   "metadata": {
    "scrolled": false
   },
   "outputs": [],
   "source": [
    "normalizeValues(filelist)"
   ]
  }
 ],
 "metadata": {
  "kernelspec": {
   "display_name": "Python 3",
   "language": "python",
   "name": "python3"
  },
  "language_info": {
   "codemirror_mode": {
    "name": "ipython",
    "version": 3
   },
   "file_extension": ".py",
   "mimetype": "text/x-python",
   "name": "python",
   "nbconvert_exporter": "python",
   "pygments_lexer": "ipython3",
   "version": "3.6.3"
  }
 },
 "nbformat": 4,
 "nbformat_minor": 2
}
