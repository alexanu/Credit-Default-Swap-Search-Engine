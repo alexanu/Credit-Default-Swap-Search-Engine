{
 "cells": [
  {
   "cell_type": "markdown",
   "metadata": {},
   "source": [
    "## Introduction"
   ]
  },
  {
   "cell_type": "markdown",
   "metadata": {},
   "source": [
    "In this notebook, we will try to obtain the unique headers amongst all the csv files that we are going to merge. Then we will finally make a master comma seperated value file with list of headers that we obtain from this notebook"
   ]
  },
  {
   "cell_type": "markdown",
   "metadata": {},
   "source": [
    "## Data Preprocessing"
   ]
  },
  {
   "cell_type": "markdown",
   "metadata": {},
   "source": [
    "### Import the necessary libaries "
   ]
  },
  {
   "cell_type": "code",
   "execution_count": 44,
   "metadata": {},
   "outputs": [],
   "source": [
    "import pandas as pd\n",
    "import numpy as np\n",
    "import glob\n",
    "import csv\n",
    "import re\n",
    "import os"
   ]
  },
  {
   "cell_type": "markdown",
   "metadata": {},
   "source": [
    "### Setting up parent directory and sub directory"
   ]
  },
  {
   "cell_type": "code",
   "execution_count": 29,
   "metadata": {},
   "outputs": [],
   "source": [
    "parent_dir = \"../Data/\"\n",
    "filelist = []\n",
    "\n",
    "def makefilelist(parent_dir):\n",
    "    headers = []\n",
    "    csv_headers = []\n",
    "    subject_dirs = [os.path.join(parent_dir, dir) for dir in os.listdir(parent_dir) if os.path.isdir(os.path.join(parent_dir, dir))]\n",
    "    filelist = []\n",
    "    for dir in subject_dirs:\n",
    "        csv_files = [os.path.join(dir, csv) for csv in os.listdir(dir) if os.path.isfile(os.path.join(dir, csv)) and csv.endswith('.csv')]\n",
    "        for file in csv_files:\n",
    "            filelist.append(file)\n",
    "    \n",
    "    return filelist"
   ]
  },
  {
   "cell_type": "markdown",
   "metadata": {},
   "source": [
    "### Read headers from CSV files"
   ]
  },
  {
   "cell_type": "code",
   "execution_count": 30,
   "metadata": {},
   "outputs": [],
   "source": [
    "def readCSV(fileList):\n",
    "    master_csv_headers = []\n",
    "    for filename in fileList:\n",
    "        with open(filename, 'r') as f:\n",
    "            d_reader = csv.DictReader(f)\n",
    "            headers = d_reader.fieldnames\n",
    "            for header in headers:\n",
    "                master_csv_headers.append(header)\n",
    "                \n",
    "    return master_csv_headers"
   ]
  },
  {
   "cell_type": "code",
   "execution_count": 31,
   "metadata": {},
   "outputs": [],
   "source": [
    "filelist = makefilelist(parent_dir)\n",
    "csv_headers = readCSV(filelist)"
   ]
  },
  {
   "cell_type": "markdown",
   "metadata": {},
   "source": [
    "Now we will only use the unqiue headers that we might require for our master CSV"
   ]
  },
  {
   "cell_type": "code",
   "execution_count": 32,
   "metadata": {},
   "outputs": [],
   "source": [
    "def uniqueHeaders(csv_headers):\n",
    "    return list(set(csv_headers))\n",
    "\n",
    "def chomp(list1):\n",
    "    list1 = [x.replace('\\n', '') for x in list1]\n",
    "    return list1"
   ]
  },
  {
   "cell_type": "markdown",
   "metadata": {},
   "source": [
    "Checking our unique header values and taking a look on the kind of values we have"
   ]
  },
  {
   "cell_type": "code",
   "execution_count": 68,
   "metadata": {},
   "outputs": [
    {
     "name": "stdout",
     "output_type": "stream",
     "text": [
      "847\n",
      "847\n"
     ]
    }
   ],
   "source": [
    "final_headers = uniqueHeaders(csv_headers)\n",
    "print(len(final_headers))\n",
    "lol = chomp(final_headers)\n",
    "print(len(lol))"
   ]
  },
  {
   "cell_type": "markdown",
   "metadata": {},
   "source": [
    "### Checking for different instances of similar headers"
   ]
  },
  {
   "cell_type": "code",
   "execution_count": 71,
   "metadata": {},
   "outputs": [
    {
     "name": "stdout",
     "output_type": "stream",
     "text": [
      "Notional Amount(1)\n",
      "Notional amount \n",
      "Notional Amount1\n",
      "  NOTIONAL AMOUNT    \n",
      "Notional Amount(c)\n",
      "Notional  Amount   (000)\n",
      "NotionalAmount ($)\n",
      "Notional Amount (000 s)\n",
      "    Notional    Value3\n",
      "Notional Amount(1) \t\n",
      "NOTIONALAMOUNT(000 S)\n",
      "MaximumPotentialAmount ofFuturePaymentsby the FundUnder theContract (2)\n",
      "NotionalAmount(000 s)b\n",
      "Notional amount\n",
      "Notional amount (000)\n",
      "NotionalValue\n",
      "NOTIONAL AMOUNT \n",
      "Notional    Amount2\n",
      "NotionalAmount\n",
      "NotionalAmount(000)\n",
      "Notional \n",
      "NotionalAmount($)(e)\n",
      "NOTIONAL AMOUNT  \n",
      "Notional Amount(B)\n",
      "AMOUNT (000 S)\n",
      "NotionalAmount(000)(4)\n",
      "Notional Amount (k) ($)\n",
      "Notional Amount ($) (m)\n",
      "Notional amount\n",
      "Notional  Amount\n",
      "NotionalAmount (000)\n",
      "Notional Amount ($) (j)\n",
      "Notional Amount(000)\n",
      "NOTIONALAMOUNT(000)\n",
      "  Notional Value\n",
      "Notional Amount(000 s)\n",
      "NotionalAmount\n",
      "NotionalAmount ($)\n",
      "ContractNotional Amount\n",
      "AMOUNT(000 S)\n",
      "Amount (000)\n",
      "Notional Amount.1\n",
      "Notional Amount (1)\n",
      " Notional Amount\n",
      "Notional Amount ($)\n",
      "Notional Amount\n",
      "Notional Amount \t\n",
      "Notional Amount ($) (h)\n",
      "Notional  Amount \n",
      "Notional Amount ($)(f)\n",
      "NotionalAmount\n",
      "NotionalAmount(000)\n",
      "NotionalAmount#\n",
      "NOTIONALAMOUNT(000's)\n",
      "Amount(000)\n",
      "Notional Amount    \n",
      "Amount\n",
      "NotionalAmount\n",
      "NOTIONALAMOUNT\n",
      "NotionalValue( )\n",
      "Notional Amount (000s) \n",
      "Amount(000)\n",
      "Notional Amount\n",
      "Notional Amount ($) (i)\n",
      "Amount(000s)\n",
      "Notional Amount(000s)\n",
      "Notional Amount(1)\n",
      "Notional amount\n",
      "Notional Amount\n",
      "NotionalAmount\n",
      "NotionalAmount\n",
      "Amount(000 s)\n",
      "Notional Amount (000s)\n",
      "AMOUNT \n",
      "AMOUNT (000 s)\n",
      "Maximum Potential Amount of Future Payments by the Fund Under the Contract (2)\n",
      "NOTIONALAMOUNT(000'S)\n",
      "Notional Value\n",
      "Amount($)\n",
      "NOTIONALAMOUNT(000)\n",
      "Notional  Amount  (000)\n",
      "NotionalAmount(U.S. Dollars)\n",
      "ContractNotionalAmount\n",
      "Notional Value3\n",
      "Notional Amount\n",
      "Notional\n",
      "Notional Value\n",
      "Notional Amount\n",
      "AMOUNT (000 S)\n",
      "Notional Amount ($) (l)\n",
      "Notional Amount (000)\n",
      "Amount \t\n",
      "Notionalamount(000)\n",
      "Notional Amount ($) (k)\n",
      "NOTIONAL AMOUNT (000's)\n",
      "  Notional   Amount \t\n",
      "Notionalamount\n",
      "NotionalAmount ($)\n",
      "Notional Amount(000's)\n",
      "Notional Amount ($) (f)\n",
      "Notional amount\n",
      "Notional Amount ($)\n",
      "Notional  Amount \t\n",
      "Amount (000)\n",
      "Notional Amount ($) (h) \n",
      "Notional Amount ($)(g)\n",
      "Notional Amount(3)\n",
      "NOTIONAL AMOUNT (000 s)\n",
      "NotionalAmount(000)2\n",
      "Notional Amount(2)\n",
      "NOTIONALAMOUNT (000)\n",
      "Notional AmountB\n",
      "NOTIONAL  AMOUNT(2)\n",
      "NOTIONAL AMOUNT\n",
      "NOTIONAL AMOUNT2    \n",
      "Notionalamount \n",
      "Notional      Amount\n",
      "Notional  Amount  Payable on  Default  (000)\n",
      "NotionalAmount(o)\n",
      "Notional Amount\n",
      "Notional Amount\n",
      "Notional\n",
      "Notional Amount ($) (g)\n",
      "Notional Amount($)\n",
      "Notional         Amount\n",
      "NOTIONAL AMOUNT2\n",
      "NotionalAmount(000'somitted)\n",
      "NetClosingAmount\n",
      "Counter 128\n"
     ]
    }
   ],
   "source": [
    "counter = 0\n",
    "for header in lol:\n",
    "    if 'notional' in header.lower() or 'amount' in header.lower():\n",
    "        print(header)\n",
    "        counter+=1\n",
    "print (\"Counter\", counter)"
   ]
  },
  {
   "cell_type": "markdown",
   "metadata": {},
   "source": [
    "We will usse the above function as a way to guage how many similar ways are there to report a specific header and then merge all the occurances together to the master csv when we are conducting the joining"
   ]
  },
  {
   "cell_type": "markdown",
   "metadata": {},
   "source": [
    "### Normalizing the values present in the column"
   ]
  },
  {
   "cell_type": "code",
   "execution_count": null,
   "metadata": {},
   "outputs": [],
   "source": [
    "def normalizeValues(filelist):\n",
    "    for filename in filelist:\n",
    "        with open(filename, 'r') as f:\n",
    "            df = pd.read_csv(filename, error_bad_lines=False)\n",
    "            headers = list(df)\n",
    "            for header in headers:\n",
    "                if '000' in header:\n",
    "                    df[header] = df[header].astype(str) + '000'\n",
    "            print (df)\n",
    "            print(\"Filename\", filename)        \n",
    "            df.to_csv(filename, index=False, header=True)"
   ]
  },
  {
   "cell_type": "code",
   "execution_count": null,
   "metadata": {
    "scrolled": false
   },
   "outputs": [],
   "source": [
    "normalizeValues(filelist)"
   ]
  }
 ],
 "metadata": {
  "kernelspec": {
   "display_name": "Python 3",
   "language": "python",
   "name": "python3"
  },
  "language_info": {
   "codemirror_mode": {
    "name": "ipython",
    "version": 3
   },
   "file_extension": ".py",
   "mimetype": "text/x-python",
   "name": "python",
   "nbconvert_exporter": "python",
   "pygments_lexer": "ipython3",
   "version": "3.6.3"
  }
 },
 "nbformat": 4,
 "nbformat_minor": 2
}
