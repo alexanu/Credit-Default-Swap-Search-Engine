{
 "cells": [
  {
   "cell_type": "markdown",
   "metadata": {},
   "source": [
    "## Introduction"
   ]
  },
  {
   "cell_type": "markdown",
   "metadata": {},
   "source": [
    "In this notebook, we will try to obtain the unique headers amongst all the csv files that we are going to merge. Then we will finally make a master comma seperated value file with list of headers that we obtain from this notebook"
   ]
  },
  {
   "cell_type": "markdown",
   "metadata": {},
   "source": [
    "## Data Preprocessing"
   ]
  },
  {
   "cell_type": "markdown",
   "metadata": {},
   "source": [
    "### Import the necessary libaries "
   ]
  },
  {
   "cell_type": "code",
   "execution_count": 1,
   "metadata": {},
   "outputs": [],
   "source": [
    "import pandas as pd\n",
    "import numpy as np\n",
    "import glob\n",
    "import csv\n",
    "import os"
   ]
  },
  {
   "cell_type": "markdown",
   "metadata": {},
   "source": [
    "### Setting up parent directory and sub directory"
   ]
  },
  {
   "cell_type": "code",
   "execution_count": 2,
   "metadata": {},
   "outputs": [],
   "source": [
    "parent_dir = \"../Data/\"\n",
    "headers = []\n",
    "csv_headers = []\n",
    "master_csv_headers = []\n",
    "\n",
    "\n",
    "subject_dirs = [os.path.join(parent_dir, dir) for dir in os.listdir(parent_dir) if os.path.isdir(os.path.join(parent_dir, dir))]\n",
    "filelist = []\n",
    "for dir in subject_dirs:\n",
    "    csv_files = [os.path.join(dir, csv) for csv in os.listdir(dir) if os.path.isfile(os.path.join(dir, csv)) and csv.endswith('.csv')]\n",
    "    for file in csv_files:\n",
    "        filelist.append(file)\n",
    "\n",
    "def readCSV(fileList):\n",
    "    for filename in fileList:\n",
    "        with open(filename, 'r') as f:\n",
    "            d_reader = csv.DictReader(f)\n",
    "            headers = d_reader.fieldnames\n",
    "            for header in headers:\n",
    "                master_csv_headers.append(header)\n",
    "                \n",
    "    return master_csv_headers"
   ]
  },
  {
   "cell_type": "markdown",
   "metadata": {},
   "source": [
    "### Read headers from CSV files"
   ]
  },
  {
   "cell_type": "code",
   "execution_count": 3,
   "metadata": {},
   "outputs": [],
   "source": [
    "def readCSV(fileList):\n",
    "    for filename in fileList:\n",
    "        with open(filename, 'r') as f:\n",
    "            d_reader = csv.DictReader(f)\n",
    "            headers = d_reader.fieldnames\n",
    "            for header in headers:\n",
    "                master_csv_headers.append(header)\n",
    "                \n",
    "    return master_csv_headers"
   ]
  },
  {
   "cell_type": "code",
   "execution_count": 4,
   "metadata": {},
   "outputs": [],
   "source": [
    "csv_headers = readCSV(filelist)"
   ]
  },
  {
   "cell_type": "markdown",
   "metadata": {},
   "source": [
    "Now we will only use the unqiue headers that we might require for our master CSV"
   ]
  },
  {
   "cell_type": "code",
   "execution_count": 11,
   "metadata": {},
   "outputs": [],
   "source": [
    "def uniqueHeaders(csv_headers):\n",
    "    return list(set(csv_headers))\n",
    "\n",
    "def chomp(list1):\n",
    "    list1 = [x.replace('\\n', '') for x in list1]\n",
    "    return list1"
   ]
  },
  {
   "cell_type": "markdown",
   "metadata": {},
   "source": [
    "Checking our unique header values and taking a look on the kind of values we have"
   ]
  },
  {
   "cell_type": "code",
   "execution_count": 17,
   "metadata": {},
   "outputs": [],
   "source": [
    "final_headers = uniqueHeaders(csv_headers)\n",
    "lol = chomp(final_headers)"
   ]
  },
  {
   "cell_type": "code",
   "execution_count": 18,
   "metadata": {},
   "outputs": [
    {
     "name": "stdout",
     "output_type": "stream",
     "text": [
      "NotionalAmount(000)\n",
      "Amount(000)\n",
      "Notional  Amount   (000)\n",
      "NOTIONALAMOUNT(000 S)\n",
      "NOTIONALAMOUNT(000)\n",
      "NOTIONAL AMOUNT (000's)\n",
      "NotionalAmount(000)2\n",
      "UNREALIZEDAPPRECIATION(DEPRECIATION)(000s)\n",
      "NOTIONALAMOUNT(000'S)\n",
      "Value(000)\n",
      "AMOUNT (000 S)\n",
      "NotionalAmount(000)(4)\n",
      "UnrealizedAppreciation(Depreciation)(000)\n",
      "Notional Amount (000s) \n",
      "AMOUNT (000 S)\n",
      "Amount(000s)\n",
      "Amount (000)\n",
      "Notional Amount (000s)\n",
      "NotionalAmount(000)\n",
      "Notional Amount (000)\n",
      "NotionalAmount (000)\n",
      "AMOUNT (000 s)\n",
      "Amount(000 s)\n",
      "Amount (000)\n",
      "NOTIONALAMOUNT(000's)\n",
      "UpfrontPaymentPaid(Received)(000)\n",
      "Notional Amount(000's)\n",
      "Notionalamount(000)\n",
      "Amount(000)\n",
      "(000 s)\n",
      "Notional Amount(000 s)\n",
      "Upfront  Payments  (000)\n",
      "NotionalAmount(000 s)b\n",
      "Notional Amount(000)\n",
      "Notional  Amount  (000)\n",
      "AMOUNT(000 S)\n",
      "Notional  Amount  Payable on  Default  (000)\n",
      "NotionalAmount(000'somitted)\n",
      "Notional Amount(000s)\n",
      "PREMIUMSPAID/(RECEIVED)(000s)\n",
      "Unrealized  Appreciation  (Depreciation)  (000)\n",
      "NOTIONALAMOUNT (000)\n",
      "NOTIONAL AMOUNT (000 s)\n",
      "NOTIONALAMOUNT(000)\n",
      "FAIR VALUE(000s)\n",
      "Notional amount (000)\n",
      "Notional Amount (000 s)\n"
     ]
    }
   ],
   "source": [
    "for header in lol:\n",
    "    if '000' in header:\n",
    "        print(header)"
   ]
  },
  {
   "cell_type": "code",
   "execution_count": null,
   "metadata": {},
   "outputs": [],
   "source": []
  }
 ],
 "metadata": {
  "kernelspec": {
   "display_name": "Python 3",
   "language": "python",
   "name": "python3"
  },
  "language_info": {
   "codemirror_mode": {
    "name": "ipython",
    "version": 3
   },
   "file_extension": ".py",
   "mimetype": "text/x-python",
   "name": "python",
   "nbconvert_exporter": "python",
   "pygments_lexer": "ipython3",
   "version": "3.6.3"
  }
 },
 "nbformat": 4,
 "nbformat_minor": 2
}
