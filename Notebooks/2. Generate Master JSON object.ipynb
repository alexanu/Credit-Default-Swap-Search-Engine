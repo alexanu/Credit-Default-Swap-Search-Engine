{
 "cells": [
  {
   "cell_type": "markdown",
   "metadata": {},
   "source": [
    "## Import the necessary libraries"
   ]
  },
  {
   "cell_type": "code",
   "execution_count": 1,
   "metadata": {},
   "outputs": [],
   "source": [
    "import pandas as pd\n",
    "import numpy as np\n",
    "import glob\n",
    "import csv\n",
    "import re\n",
    "import os"
   ]
  },
  {
   "cell_type": "markdown",
   "metadata": {},
   "source": [
    "## Assign similar headers to master CSV header"
   ]
  },
  {
   "cell_type": "code",
   "execution_count": null,
   "metadata": {},
   "outputs": [],
   "source": [
    "# Final master csv dataframe\n",
    "master_csv = pd.DataFrame()\n",
    "\n",
    "column_list = [\"CIK\", \"Reporting Type\", \"Counterparty\", \"Notional Amount\", \"Reference Entity\", \"Rating of Reference Obligation\", \"Unrealized Appreciation/Depreciation\", \"Premiums Paid (Received)\", \"Fixed Rate\", \"Credit Spread\", \"Buy/Sell Protection\", \"Expiration Date\", \"Fair Value\", \"Clearing House\", \"Moody's Rating of Reference Entity\"]\n"
   ]
  }
 ],
 "metadata": {
  "kernelspec": {
   "display_name": "Python 3",
   "language": "python",
   "name": "python3"
  },
  "language_info": {
   "codemirror_mode": {
    "name": "ipython",
    "version": 3
   },
   "file_extension": ".py",
   "mimetype": "text/x-python",
   "name": "python",
   "nbconvert_exporter": "python",
   "pygments_lexer": "ipython3",
   "version": "3.6.3"
  }
 },
 "nbformat": 4,
 "nbformat_minor": 2
}
